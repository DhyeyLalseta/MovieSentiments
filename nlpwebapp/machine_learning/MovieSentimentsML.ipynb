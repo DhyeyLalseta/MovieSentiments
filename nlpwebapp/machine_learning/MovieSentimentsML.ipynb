{
  "nbformat": 4,
  "nbformat_minor": 0,
  "metadata": {
    "colab": {
      "name": "MovieSentimentsML.ipynb",
      "provenance": [],
      "collapsed_sections": []
    },
    "kernelspec": {
      "name": "python3",
      "display_name": "Python 3"
    }
  },
  "cells": [
    {
      "cell_type": "code",
      "metadata": {
        "id": "BmxgCGiyMc4h",
        "colab_type": "code",
        "colab": {
          "base_uri": "https://localhost:8080/",
          "height": 34
        },
        "outputId": "36ca375f-f9ff-4537-fd95-1970bdb01355"
      },
      "source": [
        "%cd drive/My\\ Drive/moviereviews"
      ],
      "execution_count": null,
      "outputs": [
        {
          "output_type": "stream",
          "text": [
            "/content/drive/My Drive/moviereviews\n"
          ],
          "name": "stdout"
        }
      ]
    },
    {
      "cell_type": "code",
      "metadata": {
        "id": "WeOeR3SSMo2f",
        "colab_type": "code",
        "colab": {}
      },
      "source": [
        "import pandas as pd\n",
        "import numpy as np\n",
        "from sklearn.neural_network import MLPClassifier\n",
        "from sklearn.neighbors import KNeighborsClassifier\n",
        "from sklearn.gaussian_process import GaussianProcessClassifier\n",
        "from sklearn.tree import DecisionTreeClassifier\n",
        "from sklearn.ensemble import RandomForestClassifier, AdaBoostClassifier\n",
        "from sklearn.naive_bayes import GaussianNB, ComplementNB\n",
        "from sklearn.discriminant_analysis import QuadraticDiscriminantAnalysis\n",
        "from sklearn.feature_extraction.text import CountVectorizer\n",
        "from sklearn.linear_model import SGDClassifier\n",
        "from sklearn.model_selection import train_test_split\n",
        "from sklearn.feature_extraction.text import TfidfVectorizer\n",
        "from sklearn.model_selection import cross_val_score"
      ],
      "execution_count": null,
      "outputs": []
    },
    {
      "cell_type": "code",
      "metadata": {
        "id": "h8RtrUxKMt7B",
        "colab_type": "code",
        "colab": {}
      },
      "source": [
        "df = pd.DataFrame(np.load('clean_df.npy', allow_pickle=True), columns=['title', 'score', 'text'])"
      ],
      "execution_count": null,
      "outputs": []
    },
    {
      "cell_type": "code",
      "metadata": {
        "id": "7pNr-Ggsf4hb",
        "colab_type": "code",
        "colab": {
          "base_uri": "https://localhost:8080/",
          "height": 51
        },
        "outputId": "21a4d3a0-af28-4c40-b683-d92f82583a36"
      },
      "source": [
        "scores = df['score'].values.astype(float)\n",
        "print(scores)\n",
        "scores = np.round(scores/5).astype(int)\n",
        "print(scores)"
      ],
      "execution_count": null,
      "outputs": [
        {
          "output_type": "stream",
          "text": [
            "[5.  5.  0.5 ... 3.  3.5 3. ]\n",
            "[1 1 0 ... 1 1 1]\n"
          ],
          "name": "stdout"
        }
      ]
    },
    {
      "cell_type": "code",
      "metadata": {
        "id": "8F8P1-vTgpaH",
        "colab_type": "code",
        "colab": {
          "base_uri": "https://localhost:8080/",
          "height": 119
        },
        "outputId": "88b662f4-4d4d-4f3f-fd73-a1db879bd527"
      },
      "source": [
        "text = df['text'].str.join(\" \")\n",
        "text.head()"
      ],
      "execution_count": null,
      "outputs": [
        {
          "output_type": "execute_result",
          "data": {
            "text/plain": [
              "0            outstanding delightfully clever movie way\n",
              "1    parasite seduce subtle suggestion path power w...\n",
              "2    predictable unbelievable film unaware genre be...\n",
              "3    parasite shorten release despite lack pertinen...\n",
              "4    listen- like rlly rad film absolute fuck -pron...\n",
              "Name: text, dtype: object"
            ]
          },
          "metadata": {
            "tags": []
          },
          "execution_count": 5
        }
      ]
    },
    {
      "cell_type": "code",
      "metadata": {
        "id": "HIwlgpa1dYqO",
        "colab_type": "code",
        "colab": {}
      },
      "source": [
        "tfidf = TfidfVectorizer().fit(text.values)\n",
        "tfidf_text = tfidf.transform(text).toarray()"
      ],
      "execution_count": null,
      "outputs": []
    },
    {
      "cell_type": "code",
      "metadata": {
        "id": "40peVT0HbR85",
        "colab_type": "code",
        "colab": {}
      },
      "source": [
        "def calculate_results(X, y, classifier):\n",
        "    results = {}\n",
        "    X_train, X_test, y_train, y_test = train_test_split(\n",
        "        X, y, test_size=0.33, random_state=0\n",
        "        )\n",
        "    classifier.fit(X_train, y_train)\n",
        "    results['test_score'] = classifier.score(X_test, y_test)\n",
        "    results['test_preds'] = classifier.predict(X_test)\n",
        "    results['model'] = classifier\n",
        "    return results"
      ],
      "execution_count": null,
      "outputs": []
    },
    {
      "cell_type": "code",
      "metadata": {
        "id": "WsIcNg2GFgdq",
        "colab_type": "code",
        "colab": {}
      },
      "source": [
        "results = {}"
      ],
      "execution_count": null,
      "outputs": []
    },
    {
      "cell_type": "code",
      "metadata": {
        "id": "RGJz6nLEWO4y",
        "colab_type": "code",
        "colab": {
          "base_uri": "https://localhost:8080/",
          "height": 748
        },
        "outputId": "733b2e17-88da-4563-a533-35cd0f026c7a"
      },
      "source": [
        "mlpc = MLPClassifier(random_state=42, verbose=True, early_stopping=True)\n",
        "results['MLPC'] = calculate_results(tfidf_text, scores, mlpc)"
      ],
      "execution_count": null,
      "outputs": [
        {
          "output_type": "stream",
          "text": [
            "Iteration 1, loss = 0.59409721\n",
            "Validation score: 0.831715\n",
            "Iteration 2, loss = 0.46205617\n",
            "Validation score: 0.831715\n",
            "Iteration 3, loss = 0.39292471\n",
            "Validation score: 0.831715\n",
            "Iteration 4, loss = 0.33599925\n",
            "Validation score: 0.846278\n",
            "Iteration 5, loss = 0.26252121\n",
            "Validation score: 0.860841\n",
            "Iteration 6, loss = 0.19822675\n",
            "Validation score: 0.865696\n",
            "Iteration 7, loss = 0.15266827\n",
            "Validation score: 0.872168\n",
            "Iteration 8, loss = 0.12111427\n",
            "Validation score: 0.877023\n",
            "Iteration 9, loss = 0.09810823\n",
            "Validation score: 0.877023\n",
            "Iteration 10, loss = 0.08171839\n",
            "Validation score: 0.878641\n",
            "Iteration 11, loss = 0.06909371\n",
            "Validation score: 0.878641\n",
            "Iteration 12, loss = 0.05938437\n",
            "Validation score: 0.878641\n",
            "Iteration 13, loss = 0.05150901\n",
            "Validation score: 0.877023\n",
            "Iteration 14, loss = 0.04527777\n",
            "Validation score: 0.878641\n",
            "Iteration 15, loss = 0.04009201\n",
            "Validation score: 0.873786\n",
            "Iteration 16, loss = 0.03588797\n",
            "Validation score: 0.872168\n",
            "Iteration 17, loss = 0.03240211\n",
            "Validation score: 0.878641\n",
            "Iteration 18, loss = 0.02925328\n",
            "Validation score: 0.877023\n",
            "Iteration 19, loss = 0.02679484\n",
            "Validation score: 0.875405\n",
            "Iteration 20, loss = 0.02451301\n",
            "Validation score: 0.875405\n",
            "Iteration 21, loss = 0.02246094\n",
            "Validation score: 0.875405\n",
            "Validation score did not improve more than tol=0.000100 for 10 consecutive epochs. Stopping.\n"
          ],
          "name": "stdout"
        }
      ]
    },
    {
      "cell_type": "code",
      "metadata": {
        "id": "2JuxVRN7WvUT",
        "colab_type": "code",
        "colab": {
          "base_uri": "https://localhost:8080/",
          "height": 187
        },
        "outputId": "2af58060-3a56-40fc-b578-19464d3d88ff"
      },
      "source": [
        "results['MLPC']"
      ],
      "execution_count": null,
      "outputs": [
        {
          "output_type": "execute_result",
          "data": {
            "text/plain": [
              "{'model': MLPClassifier(activation='relu', alpha=0.0001, batch_size='auto', beta_1=0.9,\n",
              "               beta_2=0.999, early_stopping=True, epsilon=1e-08,\n",
              "               hidden_layer_sizes=(100,), learning_rate='constant',\n",
              "               learning_rate_init=0.001, max_fun=15000, max_iter=200,\n",
              "               momentum=0.9, n_iter_no_change=10, nesterovs_momentum=True,\n",
              "               power_t=0.5, random_state=42, shuffle=True, solver='adam',\n",
              "               tol=0.0001, validation_fraction=0.1, verbose=True,\n",
              "               warm_start=False),\n",
              " 'test_preds': array([0, 1, 1, ..., 1, 1, 1]),\n",
              " 'test_score': 0.8745072273324573}"
            ]
          },
          "metadata": {
            "tags": []
          },
          "execution_count": 19
        }
      ]
    },
    {
      "cell_type": "code",
      "metadata": {
        "id": "dfLb4p-aNWnz",
        "colab_type": "code",
        "colab": {}
      },
      "source": [
        "dtc = DecisionTreeClassifier(max_depth=3, random_state=42)\n",
        "results['DTC'] = calculate_results(tfidf_text, scores, dtc)"
      ],
      "execution_count": null,
      "outputs": []
    },
    {
      "cell_type": "code",
      "metadata": {
        "id": "mu8ObGa7Nx3h",
        "colab_type": "code",
        "colab": {
          "base_uri": "https://localhost:8080/",
          "height": 221
        },
        "outputId": "34575228-fc9b-4a8b-f812-0e6bacb73118"
      },
      "source": [
        "rfc = RandomForestClassifier(n_estimators=200, n_jobs=-1, verbose=True)\n",
        "results['RFC'] = calculate_results(tfidf_text, scores, rfc)"
      ],
      "execution_count": null,
      "outputs": [
        {
          "output_type": "stream",
          "text": [
            "[Parallel(n_jobs=-1)]: Using backend ThreadingBackend with 2 concurrent workers.\n",
            "[Parallel(n_jobs=-1)]: Done  46 tasks      | elapsed:   52.6s\n",
            "[Parallel(n_jobs=-1)]: Done 196 tasks      | elapsed:  3.8min\n",
            "[Parallel(n_jobs=-1)]: Done 200 out of 200 | elapsed:  3.8min finished\n",
            "[Parallel(n_jobs=2)]: Using backend ThreadingBackend with 2 concurrent workers.\n",
            "[Parallel(n_jobs=2)]: Done  46 tasks      | elapsed:    0.4s\n",
            "[Parallel(n_jobs=2)]: Done 196 tasks      | elapsed:    1.6s\n",
            "[Parallel(n_jobs=2)]: Done 200 out of 200 | elapsed:    1.7s finished\n",
            "[Parallel(n_jobs=2)]: Using backend ThreadingBackend with 2 concurrent workers.\n",
            "[Parallel(n_jobs=2)]: Done  46 tasks      | elapsed:    0.4s\n",
            "[Parallel(n_jobs=2)]: Done 196 tasks      | elapsed:    1.7s\n",
            "[Parallel(n_jobs=2)]: Done 200 out of 200 | elapsed:    1.7s finished\n"
          ],
          "name": "stderr"
        }
      ]
    },
    {
      "cell_type": "code",
      "metadata": {
        "id": "AU7wxNz2N_Hl",
        "colab_type": "code",
        "colab": {}
      },
      "source": [
        "abc = AdaBoostClassifier()\n",
        "results['ABC'] = calculate_results(tfidf_text, scores, abc)"
      ],
      "execution_count": null,
      "outputs": []
    },
    {
      "cell_type": "code",
      "metadata": {
        "id": "UifJGa1cOG3S",
        "colab_type": "code",
        "colab": {}
      },
      "source": [
        "gnb = GaussianNB()\n",
        "results['GNB'] = calculate_results(tfidf_text, scores, gnb)"
      ],
      "execution_count": null,
      "outputs": []
    },
    {
      "cell_type": "code",
      "metadata": {
        "id": "NLZLFbpFOOpp",
        "colab_type": "code",
        "colab": {}
      },
      "source": [
        "cnb = ComplementNB()\n",
        "results['CNB'] = calculate_results(tfidf_text, scores, cnb)"
      ],
      "execution_count": null,
      "outputs": []
    },
    {
      "cell_type": "code",
      "metadata": {
        "id": "poDzPjIQOUx0",
        "colab_type": "code",
        "colab": {
          "base_uri": "https://localhost:8080/",
          "height": 51
        },
        "outputId": "428eeee4-379a-4787-9bef-6100789ca405"
      },
      "source": [
        "qda = QuadraticDiscriminantAnalysis()\n",
        "results['QDA'] = calculate_results(tfidf_text, scores, qda)"
      ],
      "execution_count": null,
      "outputs": [
        {
          "output_type": "stream",
          "text": [
            "/usr/local/lib/python3.6/dist-packages/sklearn/discriminant_analysis.py:691: UserWarning: Variables are collinear\n",
            "  warnings.warn(\"Variables are collinear\")\n"
          ],
          "name": "stderr"
        }
      ]
    },
    {
      "cell_type": "code",
      "metadata": {
        "id": "ut_D9BqJRRbg",
        "colab_type": "code",
        "colab": {
          "base_uri": "https://localhost:8080/",
          "height": 731
        },
        "outputId": "fb2a63b9-7298-422f-ef9e-ae033f4c1d99"
      },
      "source": [
        "results"
      ],
      "execution_count": null,
      "outputs": [
        {
          "output_type": "execute_result",
          "data": {
            "text/plain": [
              "{'ABC': {'model': AdaBoostClassifier(algorithm='SAMME.R', base_estimator=None, learning_rate=1.0,\n",
              "                     n_estimators=50, random_state=None),\n",
              "  'test_preds': array([1, 1, 1, ..., 1, 1, 1]),\n",
              "  'test_score': 0.8597240473061761},\n",
              " 'CNB': {'model': ComplementNB(alpha=1.0, class_prior=None, fit_prior=True, norm=False),\n",
              "  'test_preds': array([1, 1, 1, ..., 1, 1, 1]),\n",
              "  'test_score': 0.8406701708278581},\n",
              " 'DTC': {'model': DecisionTreeClassifier(ccp_alpha=0.0, class_weight=None, criterion='gini',\n",
              "                         max_depth=3, max_features=None, max_leaf_nodes=None,\n",
              "                         min_impurity_decrease=0.0, min_impurity_split=None,\n",
              "                         min_samples_leaf=1, min_samples_split=2,\n",
              "                         min_weight_fraction_leaf=0.0, presort='deprecated',\n",
              "                         random_state=42, splitter='best'),\n",
              "  'test_preds': array([1, 1, 1, ..., 1, 1, 1]),\n",
              "  'test_score': 0.8472404730617609},\n",
              " 'GNB': {'model': GaussianNB(priors=None, var_smoothing=1e-09),\n",
              "  'test_preds': array([1, 1, 0, ..., 1, 1, 0]),\n",
              "  'test_score': 0.6478318002628121},\n",
              " 'MLPC': {'model': MLPClassifier(activation='relu', alpha=0.0001, batch_size='auto', beta_1=0.9,\n",
              "                beta_2=0.999, early_stopping=True, epsilon=1e-08,\n",
              "                hidden_layer_sizes=(100,), learning_rate='constant',\n",
              "                learning_rate_init=0.001, max_fun=15000, max_iter=200,\n",
              "                momentum=0.9, n_iter_no_change=10, nesterovs_momentum=True,\n",
              "                power_t=0.5, random_state=42, shuffle=True, solver='adam',\n",
              "                tol=0.0001, validation_fraction=0.1, verbose=True,\n",
              "                warm_start=False),\n",
              "  'test_preds': array([0, 1, 1, ..., 1, 1, 1]),\n",
              "  'test_score': 0.8745072273324573},\n",
              " 'QDA': {'model': QuadraticDiscriminantAnalysis(priors=None, reg_param=0.0,\n",
              "                                store_covariance=False, tol=0.0001),\n",
              "  'test_preds': array([0, 0, 0, ..., 0, 0, 1]),\n",
              "  'test_score': 0.39487516425755587},\n",
              " 'RFC': {'model': RandomForestClassifier(bootstrap=True, ccp_alpha=0.0, class_weight=None,\n",
              "                         criterion='gini', max_depth=None, max_features='auto',\n",
              "                         max_leaf_nodes=None, max_samples=None,\n",
              "                         min_impurity_decrease=0.0, min_impurity_split=None,\n",
              "                         min_samples_leaf=1, min_samples_split=2,\n",
              "                         min_weight_fraction_leaf=0.0, n_estimators=200,\n",
              "                         n_jobs=-1, oob_score=False, random_state=None,\n",
              "                         verbose=True, warm_start=False),\n",
              "  'test_preds': array([1, 1, 1, ..., 1, 1, 1]),\n",
              "  'test_score': 0.8646517739816032}}"
            ]
          },
          "metadata": {
            "tags": []
          },
          "execution_count": 20
        }
      ]
    },
    {
      "cell_type": "code",
      "metadata": {
        "id": "oh10eW5eDqRF",
        "colab_type": "code",
        "colab": {}
      },
      "source": [
        "from sklearn.model_selection import GridSearchCV"
      ],
      "execution_count": null,
      "outputs": []
    },
    {
      "cell_type": "code",
      "metadata": {
        "id": "BBnfojv8gCIz",
        "colab_type": "code",
        "colab": {}
      },
      "source": [
        "parameter_space = {\n",
        "    'hidden_layer_sizes': [(50,50,50), (100,)],\n",
        "    'activation': ['tanh', 'relu'],\n",
        "    'solver': ['lbfgs', 'adam'],\n",
        "    'learning_rate': ['invscaling', 'constant','adaptive'],\n",
        "}"
      ],
      "execution_count": null,
      "outputs": []
    },
    {
      "cell_type": "code",
      "metadata": {
        "id": "oUINQEd7gFMy",
        "colab_type": "code",
        "colab": {}
      },
      "source": [
        "model = MLPClassifier(verbose=True, early_stopping=True)"
      ],
      "execution_count": null,
      "outputs": []
    },
    {
      "cell_type": "code",
      "metadata": {
        "id": "OoZmxf-Cg2j-",
        "colab_type": "code",
        "colab": {}
      },
      "source": [
        "from sklearn.model_selection import GridSearchCV"
      ],
      "execution_count": null,
      "outputs": []
    },
    {
      "cell_type": "code",
      "metadata": {
        "id": "hYVUJtGVzYTT",
        "colab_type": "code",
        "colab": {
          "base_uri": "https://localhost:8080/",
          "height": 68
        },
        "outputId": "04c665e9-ae56-4ef3-b4b9-28f3c0c91cde"
      },
      "source": [
        "gscv = GridSearchCV(model, parameter_space, verbose=3, n_jobs=-1, cv=2)\n",
        "gscv.fit(tfidf_text, scores)"
      ],
      "execution_count": null,
      "outputs": [
        {
          "output_type": "stream",
          "text": [
            "Fitting 2 folds for each of 48 candidates, totalling 96 fits\n"
          ],
          "name": "stdout"
        },
        {
          "output_type": "stream",
          "text": [
            "[Parallel(n_jobs=-1)]: Using backend LokyBackend with 2 concurrent workers.\n",
            "[Parallel(n_jobs=-1)]: Done  28 tasks      | elapsed: 20.4min\n"
          ],
          "name": "stderr"
        }
      ]
    },
    {
      "cell_type": "code",
      "metadata": {
        "id": "SgsVJqwenAgE",
        "colab_type": "code",
        "colab": {}
      },
      "source": [
        "# Best paramete set\n",
        "print('Best parameters found:\\n', gscv.best_params_)"
      ],
      "execution_count": null,
      "outputs": []
    },
    {
      "cell_type": "code",
      "metadata": {
        "id": "6raa5PhVkknD",
        "colab_type": "code",
        "colab": {}
      },
      "source": [
        "\n",
        "\n",
        "# All results\n",
        "means = gscv.cv_results_['mean_test_score']\n",
        "stds = gscv.cv_results_['std_test_score']\n",
        "for mean, std, params in zip(means, stds, gscv.cv_results_['params']):\n",
        "    print(\"%0.3f (+/-%0.03f) for %r\" % (mean, std * 2, params))"
      ],
      "execution_count": null,
      "outputs": []
    },
    {
      "cell_type": "code",
      "metadata": {
        "id": "hveAdLI1nCrr",
        "colab_type": "code",
        "colab": {}
      },
      "source": [
        ""
      ],
      "execution_count": null,
      "outputs": []
    }
  ]
}